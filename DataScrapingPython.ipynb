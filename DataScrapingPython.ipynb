{
  "nbformat": 4,
  "nbformat_minor": 0,
  "metadata": {
    "colab": {
      "provenance": [],
      "authorship_tag": "ABX9TyMN8nh3eqlVziinqn8Lq4OX",
      "include_colab_link": true
    },
    "kernelspec": {
      "name": "python3",
      "display_name": "Python 3"
    },
    "language_info": {
      "name": "python"
    }
  },
  "cells": [
    {
      "cell_type": "markdown",
      "metadata": {
        "id": "view-in-github",
        "colab_type": "text"
      },
      "source": [
        "<a href=\"https://colab.research.google.com/github/LuisoRubi/ATM/blob/main/DataScrapingPython.ipynb\" target=\"_parent\"><img src=\"https://colab.research.google.com/assets/colab-badge.svg\" alt=\"Open In Colab\"/></a>"
      ]
    },
    {
      "cell_type": "code",
      "execution_count": 17,
      "metadata": {
        "id": "u_TKptXvKx-6"
      },
      "outputs": [],
      "source": [
        "from bs4 import BeautifulSoup\n",
        "import pandas as pd\n",
        "import requests"
      ]
    },
    {
      "cell_type": "code",
      "source": [
        "url = 'https://quotes.toscrape.com/tag/love/'"
      ],
      "metadata": {
        "id": "rrP_uG2qY093"
      },
      "execution_count": 26,
      "outputs": []
    },
    {
      "cell_type": "code",
      "source": [
        "response = requests.get(url)\n",
        "soup = BeautifulSoup(response.text, 'html.parser')"
      ],
      "metadata": {
        "id": "q-L_jsNYY2q4"
      },
      "execution_count": 4,
      "outputs": []
    },
    {
      "cell_type": "code",
      "source": [
        "quotes = soup.find_all('div', class_='quote')"
      ],
      "metadata": {
        "id": "Aj8icM7oY6Wx"
      },
      "execution_count": 24,
      "outputs": []
    },
    {
      "cell_type": "code",
      "source": [
        "print(f'Número de citas encontradas: {len(quotes)}')"
      ],
      "metadata": {
        "colab": {
          "base_uri": "https://localhost:8080/"
        },
        "id": "qBIYosN4kRZh",
        "outputId": "b79b83d7-f280-4c7c-ed5e-658179a1da4b"
      },
      "execution_count": 27,
      "outputs": [
        {
          "output_type": "stream",
          "name": "stdout",
          "text": [
            "Número de citas encontradas: 10\n"
          ]
        }
      ]
    },
    {
      "cell_type": "code",
      "source": [
        "filtered_quotes = []\n",
        "for quote in quotes:\n",
        "    tags = [tag.text for tag in quote.find_all('a', class_='tag')]\n",
        "    if \"friendship\" in tags or \"love\" in tags:\n",
        "        # Extraer cita y autor\n",
        "        quote_text = quote.find('span', class_='text').text.strip()\n",
        "        author = quote.find('small', class_='author').text.strip()\n",
        "        filtered_quotes.append({'quote': quote_text, 'author': author, 'tags': tags})"
      ],
      "metadata": {
        "id": "s0J1vT-6Y_lF"
      },
      "execution_count": 33,
      "outputs": []
    },
    {
      "cell_type": "code",
      "source": [
        "df = pd.DataFrame(filtered_quotes)\n",
        "\n",
        "print(df.head())"
      ],
      "metadata": {
        "colab": {
          "base_uri": "https://localhost:8080/"
        },
        "id": "40L6TV4VZN4M",
        "outputId": "d00d6c27-69f9-44eb-91f5-fa2ca2257631"
      },
      "execution_count": 34,
      "outputs": [
        {
          "output_type": "stream",
          "name": "stdout",
          "text": [
            "                                               quote      author          tags\n",
            "0  “It is better to be hated for what you are tha...  André Gide  [life, love]\n"
          ]
        }
      ]
    }
  ]
}